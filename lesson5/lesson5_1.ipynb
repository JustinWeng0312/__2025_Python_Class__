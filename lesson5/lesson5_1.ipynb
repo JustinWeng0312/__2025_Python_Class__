{
 "cells": [
  {
   "cell_type": "code",
   "execution_count": 4,
   "id": "9e0b1b0a",
   "metadata": {},
   "outputs": [
    {
     "name": "stdout",
     "output_type": "stream",
     "text": [
      "💬 AI 回應：\n",
      "{'error': 'model requires more system memory (827.5 MiB) than is available (256.7 MiB)'}\n",
      "No expected key found in response. Available keys: dict_keys(['error'])\n"
     ]
    }
   ],
   "source": [
    "import requests\n",
    "\n",
    "def chat_with_ollama(prompt: str):\n",
    "    url = \"http://localhost:11434/api/generate\"\n",
    "    payload = {\n",
    "        \"model\": \"gemma3:1b\",\n",
    "        \"prompt\": prompt,\n",
    "        \"stream\": False,\n",
    "        \"options\": { #參考說明1\n",
    "            \"temperature\": 0.7,\n",
    "            \"top_p\": 0.9,\n",
    "            \"top_k\": 50,\n",
    "        },\n",
    "        \"max_tokens\": 100,\n",
    "        \"format\": \"json\",\n",
    "    }\n",
    "\n",
    "    response = requests.post(url, json=payload)\n",
    "    result = response.json()\n",
    "    print(\"💬 AI 回應：\")\n",
    "    # Print the whole result for debugging\n",
    "    print(result)\n",
    "    # Try to print the 'response' key if it exists, otherwise print possible keys\n",
    "    if \"response\" in result:\n",
    "        print(result[\"response\"])\n",
    "    elif \"message\" in result:\n",
    "        print(result[\"message\"])\n",
    "    elif \"content\" in result:\n",
    "        print(result[\"content\"])\n",
    "    else:\n",
    "        print(\"No expected key found in response. Available keys:\", result.keys())\n",
    "\n",
    "#範例輸入\n",
    "chat_with_ollama(\"請用簡單的方式解釋什麼是Python的函式？\")"
   ]
  },
  {
   "cell_type": "code",
   "execution_count": null,
   "id": "c9c8fb3d",
   "metadata": {},
   "outputs": [
    {
     "name": "stdout",
     "output_type": "stream",
     "text": [
      "連線成功!\n",
      "<!DOCTYPE html>\n",
      "<html lang=\"zh-Hant\">\n",
      "<head>\n",
      "<meta charset=\"UTF-8\" />\n",
      "<meta name=\"viewport\" content=\"width=device-width, initial-scale=1\" />\n",
      "<title>Welcome to Raspberry Pi Web</title>\n",
      "<link href=\"https://cdn.jsdelivr.net/npm/bootstrap@5.3.3/dist/css/bootstrap.min.css\" rel=\"stylesheet\" />\n",
      "<style>\n",
      "   body {\n",
      "      background: linear-gradient(to right, #74ebd5, #ACB6E5);\n",
      "      min-height: 100vh;\n",
      "      display: flex;\n",
      "      align-items: center;\n",
      "      justify-content: center;\n",
      "      color: #333;\n",
      "   }\n",
      "   .card {\n",
      "      border-radius: 1rem;\n",
      "      box-shadow: 0 0 20px rgba(0,0,0,0.2);\n",
      "   }\n",
      "   .btn-primary {\n",
      "      background-color: #4a90e2;\n",
      "      border-color: #4a90e2;\n",
      "   }\n",
      "</style>\n",
      "</head>\n",
      "<body>\n",
      "<div class=\"container text-center\">\n",
      "   <div class=\"card p-5\">\n",
      "      <h1 class=\"mb-3\">ð æ­¡è¿ä½¿ç¨ Raspberry Pi ç¶²é ä¼ºæå¨</h1>\n",
      "      <p class=\"lead\">å·²æååå Apache2ï¼éæ¯ä¸åä½¿ç¨ Bootstrap æé çç°¡æ½é é¢ã</p>\n",
      "      <hr />\n",
      "      <p>è¥çå°éåç«é¢ï¼ä»£è¡¨ Apache æ­£å¸¸éä½ã</p>\n",
      "      <a href=\"https://www.raspberrypi.com\" target=\"_blank\" class=\"btn btn-primary mt-3\">åå¾ Raspberry Pi å®ç¶²</a>\n",
      "      <a href=\"https://github.com/samhsiao6238/RaspberryPi_2025/tree/main\" target=\"_blank\" class=\"btn btn-primary mt-3\"> èå¸«è¬ç¾©</a>\n",
      "   </div>\n",
      "</div>\n",
      "</div>\n",
      "</body>\n",
      "</html>\n"
     ]
    }
   ],
   "source": [
    "import requests\n",
    "\n",
    "url = 'http://example.com'\n",
    "#url = 'https://www.google.com'\n",
    "#requests.get(url) #引述值呼叫\n",
    "#requests.get(url=url) #引述名稱呼叫\n",
    "#type(response)\n",
    "\n",
    "response = requests.get(url) #引述值呼叫\n",
    "if response.status_code == 200:\n",
    "    print(\"連線成功!\")\n",
    "    print(response.text) # 印出內文\n",
    "else:\n",
    "    print(\"連線失敗><\")\n",
    "\n"
   ]
  },
  {
   "cell_type": "code",
   "execution_count": 11,
   "id": "9b60c501",
   "metadata": {},
   "outputs": [
    {
     "name": "stdout",
     "output_type": "stream",
     "text": [
      "連線失敗>< 500\n"
     ]
    }
   ],
   "source": [
    "import requests\n",
    "from IPython.display import Markdown, display\n",
    "\n",
    "url = \"http://localhost:11434/api/generate\"\n",
    "response = requests.post(url, json={\n",
    "        \"model\": \"gemma3:1b\",\n",
    "        \"prompt\": \"請用簡單的方式解釋什麼是Python的函式？\",\n",
    "        \"stream\": False,\n",
    "        \"format\": \"json\",        \n",
    "        }) # 引述值呼叫,引述名稱呼叫(不依照順序),混合使用\n",
    "if response.status_code == 200:\n",
    "    print(\"連線成功!\")\n",
    "    # print(response.json())  # 印出回應的 JSON 內容\n",
    "    result = response.json()\n",
    "    # print(result['response'])\n",
    "    display(Markdown(result['response'])) \n",
    "else:\n",
    "    print(\"連線失敗><\", response.status_code)    "
   ]
  },
  {
   "cell_type": "code",
   "execution_count": 8,
   "id": "a43d42df",
   "metadata": {},
   "outputs": [
    {
     "name": "stdout",
     "output_type": "stream",
     "text": [
      "tw\n",
      "jp\n",
      "us\n",
      "Taiwan\n",
      "Japan\n",
      "United States\n",
      "Taiwan tw\n",
      "Japan jp\n",
      "United States us\n"
     ]
    }
   ],
   "source": [
    "codes = {\n",
    "    \"tw\" : \"Taiwan\",\n",
    "    \"jp\" : \"Japan\",\n",
    "    \"us\" : \"United States\"\n",
    "}\n",
    "\n",
    "codes[\"tw\"]\n",
    "\n",
    "codes.keys()  # 印出所有鍵\n",
    "\n",
    "for item in codes.keys():\n",
    "    print(item)  # 印出每個鍵\n",
    "\n",
    "for value in codes.values():\n",
    "    print(value)  # 印出每個值\n",
    "\n",
    "for (code,name) in codes.items():\n",
    "    print(name, code) \n"
   ]
  }
 ],
 "metadata": {
  "kernelspec": {
   "display_name": "line_bot",
   "language": "python",
   "name": "python3"
  },
  "language_info": {
   "codemirror_mode": {
    "name": "ipython",
    "version": 3
   },
   "file_extension": ".py",
   "mimetype": "text/x-python",
   "name": "python",
   "nbconvert_exporter": "python",
   "pygments_lexer": "ipython3",
   "version": "3.12.11"
  }
 },
 "nbformat": 4,
 "nbformat_minor": 5
}
