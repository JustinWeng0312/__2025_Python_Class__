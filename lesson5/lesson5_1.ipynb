{
 "cells": [
  {
   "cell_type": "code",
   "execution_count": 4,
   "id": "9e0b1b0a",
   "metadata": {},
   "outputs": [
    {
     "name": "stdout",
     "output_type": "stream",
     "text": [
      "💬 AI 回應：\n",
      "{'error': 'model requires more system memory (827.5 MiB) than is available (256.7 MiB)'}\n",
      "No expected key found in response. Available keys: dict_keys(['error'])\n"
     ]
    }
   ],
   "source": [
    "import requests\n",
    "\n",
    "def chat_with_ollama(prompt: str):\n",
    "    url = \"http://localhost:11434/api/generate\"\n",
    "    payload = {\n",
    "        \"model\": \"gemma3:1b\",\n",
    "        \"prompt\": prompt,\n",
    "        \"stream\": False,\n",
    "        \"options\": { #參考說明1\n",
    "            \"temperature\": 0.7,\n",
    "            \"top_p\": 0.9,\n",
    "            \"top_k\": 50,\n",
    "        },\n",
    "        \"max_tokens\": 100,\n",
    "        \"format\": \"json\",\n",
    "    }\n",
    "\n",
    "    response = requests.post(url, json=payload)\n",
    "    result = response.json()\n",
    "    print(\"💬 AI 回應：\")\n",
    "    # Print the whole result for debugging\n",
    "    print(result)\n",
    "    # Try to print the 'response' key if it exists, otherwise print possible keys\n",
    "    if \"response\" in result:\n",
    "        print(result[\"response\"])\n",
    "    elif \"message\" in result:\n",
    "        print(result[\"message\"])\n",
    "    elif \"content\" in result:\n",
    "        print(result[\"content\"])\n",
    "    else:\n",
    "        print(\"No expected key found in response. Available keys:\", result.keys())\n",
    "\n",
    "#範例輸入\n",
    "chat_with_ollama(\"請用簡單的方式解釋什麼是Python的函式？\")"
   ]
  },
  {
   "cell_type": "code",
   "execution_count": null,
   "id": "c9c8fb3d",
   "metadata": {},
   "outputs": [],
   "source": [
    "import requests\n",
    "\n",
    "url = 'http://example.com'\n",
    "#url = 'https://www.google.com'\n",
    "#requests.get(url) #引述值呼叫\n",
    "#requests.get(url=url) #引述名稱呼叫\n",
    "#type(response)\n",
    "\n",
    "response = requests.get(url) #引述值呼叫\n",
    "if response.status_code == 200:\n",
    "    print(\"連線成功!\")\n",
    "    print(response.text) # 印出內文\n",
    "else:\n",
    "    print(\"連線失敗><\")\n",
    "\n"
   ]
  },
  {
   "cell_type": "code",
   "execution_count": 24,
   "id": "9b60c501",
   "metadata": {},
   "outputs": [
    {
     "name": "stdout",
     "output_type": "stream",
     "text": [
      "連線失敗>< 500\n"
     ]
    }
   ],
   "source": [
    "import requests\n",
    "\n",
    "url = \"http://localhost:11434/api/generate\"\n",
    "response = requests.post(url, json={\n",
    "        \"model\": \"gemma3:1b\",\n",
    "        \"prompt\": \"請用簡單的方式解釋什麼是Python的函式？\",\n",
    "        \"stream\": False,\n",
    "        \"format\": \"json\",        \n",
    "        }) # 引述值呼叫,引述名稱呼叫(不依照順序),混合使用\n",
    "if response.status_code == 200:\n",
    "    print(\"連線成功!\")\n",
    "    print(response.json())  # 印出回應的 JSON 內容\n",
    "else:\n",
    "    print(\"連線失敗><\", response.status_code)    "
   ]
  }
 ],
 "metadata": {
  "kernelspec": {
   "display_name": "line_bot",
   "language": "python",
   "name": "python3"
  },
  "language_info": {
   "codemirror_mode": {
    "name": "ipython",
    "version": 3
   },
   "file_extension": ".py",
   "mimetype": "text/x-python",
   "name": "python",
   "nbconvert_exporter": "python",
   "pygments_lexer": "ipython3",
   "version": "3.12.11"
  }
 },
 "nbformat": 4,
 "nbformat_minor": 5
}
