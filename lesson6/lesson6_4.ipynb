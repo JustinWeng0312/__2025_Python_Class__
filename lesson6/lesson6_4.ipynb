{
 "cells": [
  {
   "cell_type": "code",
   "execution_count": 9,
   "id": "e095d99d",
   "metadata": {},
   "outputs": [
    {
     "name": "stdout",
     "output_type": "stream",
     "text": [
      "===========AI回應==============\n"
     ]
    },
    {
     "data": {
      "text/markdown": [
       "想像一下，Python 函式就像是一個 **指令或程式的步驟**。\n",
       "\n",
       "**簡單來說，Python 函式就是一段程式碼，它會做特定的事情。**\n",
       "\n",
       "以下是一些更詳細的解釋：\n",
       "\n",
       "* **可以重複執行:** 函式就像是一段程式碼的腳本，可以被多次執行。\n",
       "* **提供特定功能:** 函式針對完成特定任務設計，例如計算，顯示訊息，或讀取數據。\n",
       "* **需要輸入和輸出:** 函式通常需要接收輸入（例如，使用者輸入）然後執行一些操作，並以特定的方式顯示結果（例如，顯示訊息）。\n",
       "\n",
       "**舉個例子：**\n",
       "\n",
       "假設你想寫一個函式來計算一個數字，這個函式可能包含以下步驟：\n",
       "\n",
       "1.  要求使用者輸入一個數字。\n",
       "2.  計算這個數字的平方。\n",
       "3.  顯示結果。\n",
       "\n",
       "這就是一個簡單的 Python 函式。\n",
       "\n",
       "**總結：** Python 函式就像是程式碼的藍圖，告訴程式碼如何執行特定的任務。\n",
       "\n",
       "希望這個解釋對你有幫助！\n"
      ],
      "text/plain": [
       "<IPython.core.display.Markdown object>"
      ]
     },
     "metadata": {},
     "output_type": "display_data"
    }
   ],
   "source": [
    "import requests\n",
    "\n",
    "#import pprint\n",
    "from pprint import pprint\n",
    "\n",
    "from IPython.display import Markdown, display\n",
    "\n",
    "def generate_with_ollama(prompt:str)->None:\n",
    "    url = \"http://localhost:11434/api/generate\"\n",
    "    payload = {\n",
    "        \"model\": \"gemma3:1b\",\n",
    "        \"prompt\": prompt,\n",
    "        \"stream\": False,\n",
    "    }\n",
    "    response = requests.post(url, json=payload)\n",
    "    result = response.json()\n",
    "    \n",
    "    #print(type(result))\n",
    "    #pprint(result)\n",
    "    #print(result['response'])\n",
    "\n",
    "    print(\"===========AI回應==============\")\n",
    "    display(Markdown(result['response']))    \n",
    "\n",
    "generate_with_ollama(\"請用簡單的方式解釋什麼是Python的函式？\")\n"
   ]
  }
 ],
 "metadata": {
  "kernelspec": {
   "display_name": "line_bot",
   "language": "python",
   "name": "python3"
  },
  "language_info": {
   "codemirror_mode": {
    "name": "ipython",
    "version": 3
   },
   "file_extension": ".py",
   "mimetype": "text/x-python",
   "name": "python",
   "nbconvert_exporter": "python",
   "pygments_lexer": "ipython3",
   "version": "3.12.11"
  }
 },
 "nbformat": 4,
 "nbformat_minor": 5
}
