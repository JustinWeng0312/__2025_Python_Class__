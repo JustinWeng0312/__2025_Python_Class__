{
 "cells": [
  {
   "cell_type": "markdown",
   "id": "d2a67124",
   "metadata": {},
   "source": [
    "- ### 變數, list, dict\n",
    "- ### 判斷, 迴圈\n",
    "- ### Function\n",
    "- ### 內建的function, 內建module, 外部的module\n",
    "- ### 什麼是實體"
   ]
  },
  {
   "cell_type": "code",
   "execution_count": 4,
   "id": "08557f65",
   "metadata": {},
   "outputs": [
    {
     "data": {
      "text/plain": [
       "('小明', 20, 175.5)"
      ]
     },
     "execution_count": 4,
     "metadata": {},
     "output_type": "execute_result"
    }
   ],
   "source": [
    "# 變數 (Variable)\n",
    "name = \"小明\"\n",
    "age = 20\n",
    "height = 175.5\n",
    "\n",
    "name, age, height #這是tuple，包含三個變數"
   ]
  },
  {
   "cell_type": "code",
   "execution_count": 7,
   "id": "49941a02",
   "metadata": {},
   "outputs": [
    {
     "name": "stdout",
     "output_type": "stream",
     "text": [
      "<class 'list'>\n",
      "水果清單: ['apple', 'banana', 'cherry']\n",
      "水果數量: 3\n",
      "第一個水果: apple\n",
      "反轉後的水果清單: ['cherry', 'banana', 'apple']\n",
      "添加橘子後的水果清單: ['cherry', 'banana', 'apple', 'orange']\n",
      "移除香蕉後的水果清單: ['cherry', 'apple', 'orange']\n",
      "排序後的水果清單: ['apple', 'cherry', 'orange']\n"
     ]
    }
   ],
   "source": [
    "# List（串列）: 有序可變動的元素集合\n",
    "fruits = [\"apple\", \"banana\", \"cherry\"]\n",
    "print(type(fruits))  # 輸出 <class 'list'>\n",
    "print(\"水果清單:\", fruits) # 輸出 ['apple', 'banana', 'cherry']\n",
    "print(\"水果數量:\", len(fruits))  # 輸出 3\n",
    "print(\"第一個水果:\", fruits[0])  # 輸出 apple\n",
    "fruits.reverse()  # 反轉串列\n",
    "print(\"反轉後的水果清單:\", fruits)  # 輸出 ['cherry', 'banana', 'apple']\n",
    "fruits.append(\"orange\")  # 添加新元素\n",
    "print(\"添加橘子後的水果清單:\", fruits)  # 輸出 ['cherry', 'banana', 'apple', 'orange']\n",
    "fruits.remove(\"banana\")  # 移除元素\n",
    "print(\"移除香蕉後的水果清單:\", fruits)  # 輸出 ['cherry', 'apple', 'orange']\n",
    "fruits.sort()  # 排序串列\n",
    "print(\"排序後的水果清單:\", fruits)  # 輸出 ['apple', 'cherry', 'orange']\n"
   ]
  }
 ],
 "metadata": {
  "kernelspec": {
   "display_name": "line_bot",
   "language": "python",
   "name": "python3"
  },
  "language_info": {
   "codemirror_mode": {
    "name": "ipython",
    "version": 3
   },
   "file_extension": ".py",
   "mimetype": "text/x-python",
   "name": "python",
   "nbconvert_exporter": "python",
   "pygments_lexer": "ipython3",
   "version": "3.12.11"
  }
 },
 "nbformat": 4,
 "nbformat_minor": 5
}
