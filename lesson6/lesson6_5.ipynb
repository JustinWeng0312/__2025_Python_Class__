{
 "cells": [
  {
   "cell_type": "code",
   "execution_count": 3,
   "id": "c6398b1f",
   "metadata": {},
   "outputs": [
    {
     "name": "stdout",
     "output_type": "stream",
     "text": [
      "天空之所以是藍色的，主要是因為一種叫做「**瑞利散射**」（Rayleigh Scattering）的現象。\n",
      "\n",
      "以下是詳細的解釋：\n",
      "\n",
      "1.  **太陽光線的組成：**\n",
      "    太陽光看起來是白色的，但它其實是由七種不同顏色的光（紅、橙、黃、綠、藍、靛、紫）混合而成的，就像彩虹一樣。這些不同顏色的光有不同的「波長」，其中：\n",
      "    *   **藍光和紫光**的波長較短。\n",
      "    *   **紅光和橙光**的波長較長。\n",
      "\n",
      "2.  **地球的大氣層：**\n",
      "    地球的大氣層主要由氮氣（N₂）和氧氣（O₂）等微小分子組成。這些分子比可見光的波長要小得多。\n",
      "\n",
      "3.  **瑞利散射原理：**\n",
      "    當太陽光穿過地球大氣層時，它會撞到這些微小的氣體分子。瑞利散射定律指出，光線的散射強度與其波長的四次方成反比。這句話有點複雜，簡單來說就是：\n",
      "    *   **波長越短的光（如藍光和紫光），被散射的程度就越強烈。**\n",
      "    *   波長越長的光（如紅光和橙光），被散射的程度就越弱，它們傾向於直線前進。\n",
      "\n",
      "4.  **為什麼我們看到藍天？**\n",
      "    *   由於藍光和紫光的波長較短，當太陽光進入大氣層時，大部分的藍光和紫光會被大氣中的分子「散射」開來，向四面八方散播。\n",
      "    *   這些被散射的藍光和紫光就進入了我們的眼睛，所以我們從地球表面向上看時，整個天空看起來是藍色的。\n",
      "    *   雖然紫光比藍光波長更短，散射更強，但太陽光中本身的紫光含量較少，加上人眼對藍光比對紫光更敏感，所以天空最終呈現出藍色，而不是紫色。\n",
      "\n",
      "5.  **其他顏色的光去哪了？**\n",
      "    *   紅、橙、黃等波長較長的光，散射程度較弱，它們大部分都能夠直接穿透大氣層，直達我們的眼睛。這就是為什麼太陽在中午看起來是黃白色的。\n",
      "\n",
      "---\n",
      "\n",
      "**相關現象的解釋：**\n",
      "\n",
      "*   **日出和日落時天空為什麼是紅色的？**\n",
      "    當太陽接近地平線時，太陽光需要穿過更厚、更長的大氣層才能到達我們的眼睛。在這個過程中，幾乎所有的藍光和紫光都被散射掉了。剩下能夠直接穿透過來、未被散射的，就主要是波長較長的紅光、橙光和黃光，所以太陽和天空會呈現出美麗的紅橙色調。\n",
      "\n",
      "*   **雲朵為什麼是白色的？**\n",
      "    雲朵是由微小的水滴或冰晶組成的，這些粒子比大氣中的氣體分子要大得多，甚至比可見光的波長還要大。當太陽光照射到這些較大的粒子時，所有顏色的光都會被「均勻地」散射（這叫做米氏散射，Mie Scattering），而不是像瑞利散射那樣偏愛短波長光。由於所有顏色的光都被等量散射，混合在一起後仍然是白光，所以雲朵通常是白色的。如果雲層非常厚，阻擋了大部分光線，它就會顯得灰暗。\n",
      "\n",
      "總之，天空的藍色是一個美麗而普遍的物理現象，是光的散射作用在地球大氣中展現的結果。\n"
     ]
    }
   ],
   "source": [
    "from google import genai\n",
    "import os #8/9上課新增\n",
    "from IPython.display import display, Markdown, Latex #8/9上課新增\n",
    "\n",
    "# The client gets the API key from the environment variable `GEMINI_API_KEY`.\n",
    "# client = genai.Client()\n",
    "client = genai.Client(api_key=os.environ['GEMINI_API_KEY']) # 8/9 上課時測試\n",
    "response = client.models.generate_content(\n",
    "    model=\"gemini-2.5-flash\", contents=\"天空為什麼是藍的?\"\n",
    ")\n",
    "print(response.text)"
   ]
  }
 ],
 "metadata": {
  "kernelspec": {
   "display_name": "line_bot",
   "language": "python",
   "name": "python3"
  },
  "language_info": {
   "codemirror_mode": {
    "name": "ipython",
    "version": 3
   },
   "file_extension": ".py",
   "mimetype": "text/x-python",
   "name": "python",
   "nbconvert_exporter": "python",
   "pygments_lexer": "ipython3",
   "version": "3.12.11"
  }
 },
 "nbformat": 4,
 "nbformat_minor": 5
}
