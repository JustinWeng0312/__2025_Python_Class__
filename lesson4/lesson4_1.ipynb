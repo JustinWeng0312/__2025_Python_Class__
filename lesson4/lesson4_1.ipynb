{
 "cells": [
  {
   "cell_type": "markdown",
   "id": "b2b17841",
   "metadata": {},
   "source": [
    "### python 儲存資料\n",
    "-- 變數\n",
    "-- list\n",
    "-- dict\n"
   ]
  },
  {
   "cell_type": "code",
   "execution_count": null,
   "id": "f1cf0589",
   "metadata": {},
   "outputs": [
    {
     "name": "stdout",
     "output_type": "stream",
     "text": [
      "建立變數\n",
      "變數內容:Python\n",
      "變數類型:-<class 'str'>\n",
      "變數長度:*6\n",
      "水果清單: ['apple', 'banana', 'cherry']\n",
      "apple\n",
      "banana\n",
      "cherry\n"
     ]
    }
   ],
   "source": [
    "print(\"建立變數\")\n",
    "name = \"Python\"\n",
    "print(\"變數內容:\", name, sep=\"\") \n",
    "print(\"變數類型:\", type(name),sep=\"-\")\n",
    "print(\"變數長度:\", len(name),sep=\"*\")\n",
    "\n",
    "fruits = [\"apple\", \"banana\", \"cherry\"]\n",
    "print(\"水果清單:\", fruits)\n",
    "print(fruits[0])  # 輸出: apple\n",
    "print(fruits[1])  # 輸出: banana\n",
    "print(fruits[2])  # 輸出: cherry\n",
    "\n"
   ]
  }
 ],
 "metadata": {
  "kernelspec": {
   "display_name": "line_bot",
   "language": "python",
   "name": "python3"
  },
  "language_info": {
   "codemirror_mode": {
    "name": "ipython",
    "version": 3
   },
   "file_extension": ".py",
   "mimetype": "text/x-python",
   "name": "python",
   "nbconvert_exporter": "python",
   "pygments_lexer": "ipython3",
   "version": "3.12.11"
  }
 },
 "nbformat": 4,
 "nbformat_minor": 5
}
